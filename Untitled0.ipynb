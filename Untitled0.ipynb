{
  "nbformat": 4,
  "nbformat_minor": 0,
  "metadata": {
    "colab": {
      "provenance": [],
      "authorship_tag": "ABX9TyNIoMJZaSCXfu1YDX3y3o5h",
      "include_colab_link": true
    },
    "kernelspec": {
      "name": "python3",
      "display_name": "Python 3"
    },
    "language_info": {
      "name": "python"
    }
  },
  "cells": [
    {
      "cell_type": "markdown",
      "metadata": {
        "id": "view-in-github",
        "colab_type": "text"
      },
      "source": [
        "<a href=\"https://colab.research.google.com/github/robinson-1985/chatBot_gemini/blob/main/Untitled0.ipynb\" target=\"_parent\"><img src=\"https://colab.research.google.com/assets/colab-badge.svg\" alt=\"Open In Colab\"/></a>"
      ]
    },
    {
      "cell_type": "code",
      "execution_count": null,
      "metadata": {
        "id": "xsHgX-U_Y10R"
      },
      "outputs": [],
      "source": [
        "!pip install -q -U google-generativeai"
      ]
    },
    {
      "cell_type": "code",
      "source": [
        "import google.generativeai as genai"
      ],
      "metadata": {
        "id": "X5rQ1dpEZajr"
      },
      "execution_count": 4,
      "outputs": []
    },
    {
      "cell_type": "code",
      "source": [
        "from google.colab import userdata\n",
        "\n",
        "GOOGLE_GEMINI_API_KEY= userdata.get(\"GOOGLE_GEMINI_API_KEY\")\n",
        "\n",
        "genai.configure(api_key=GOOGLE_GEMINI_API_KEY)"
      ],
      "metadata": {
        "id": "3QP5-0q0ruSF"
      },
      "execution_count": 5,
      "outputs": []
    },
    {
      "cell_type": "code",
      "source": [
        "for m in genai.list_models():\n",
        "  if 'generateContent' in m.supported_generation_methods:\n",
        "    print(m.name)\n"
      ],
      "metadata": {
        "colab": {
          "base_uri": "https://localhost:8080/",
          "height": 225
        },
        "id": "DyGnJGFfsRYy",
        "outputId": "c7f7db56-6661-43be-e432-1bdb32388f77"
      },
      "execution_count": 7,
      "outputs": [
        {
          "output_type": "stream",
          "name": "stdout",
          "text": [
            "models/gemini-1.0-pro\n",
            "models/gemini-1.0-pro-001\n",
            "models/gemini-1.0-pro-latest\n",
            "models/gemini-1.0-pro-vision-latest\n",
            "models/gemini-1.5-flash\n",
            "models/gemini-1.5-flash-001\n",
            "models/gemini-1.5-flash-latest\n",
            "models/gemini-1.5-pro\n",
            "models/gemini-1.5-pro-001\n",
            "models/gemini-1.5-pro-latest\n",
            "models/gemini-pro\n",
            "models/gemini-pro-vision\n"
          ]
        }
      ]
    },
    {
      "cell_type": "code",
      "source": [
        "model = genai.GenerativeModel(\"gemini-1.5-pro-latest\")"
      ],
      "metadata": {
        "id": "ub4yY2lVs7ho"
      },
      "execution_count": 8,
      "outputs": []
    },
    {
      "cell_type": "code",
      "source": [
        "response = model.generate_content(\"Quem criou os modelos de IA Gemini?\")\n",
        "response.text"
      ],
      "metadata": {
        "colab": {
          "base_uri": "https://localhost:8080/",
          "height": 70
        },
        "id": "sAjSCV7hFluB",
        "outputId": "176d2417-4433-490b-bc85-7982b8b8864e"
      },
      "execution_count": 9,
      "outputs": [
        {
          "output_type": "execute_result",
          "data": {
            "text/plain": [
              "'O Gemini foi criado pelo **Google**. \\n\\nMais especificamente, foi desenvolvido pela **Google DeepMind**, subsidiária do Google focada em inteligência artificial, em colaboração com outras equipes do Google. \\n'"
            ],
            "application/vnd.google.colaboratory.intrinsic+json": {
              "type": "string"
            }
          },
          "metadata": {},
          "execution_count": 9
        }
      ]
    },
    {
      "cell_type": "code",
      "source": [
        "chat = model.start_chat(history=[])\n",
        "\n",
        "prompt = input(\"Esperando prompt:\")\n",
        "\n",
        "while prompt != \"fim\":\n",
        "  response = chat.send_message(prompt)\n",
        "  print(response.text)\n",
        "  prompt = input(\"Esperando prompt:\")\n"
      ],
      "metadata": {
        "colab": {
          "base_uri": "https://localhost:8080/",
          "height": 820
        },
        "id": "0SMOic0ZF8Pn",
        "outputId": "b894e0c3-ed0a-4f5c-9c71-d2f3b43f067c"
      },
      "execution_count": null,
      "outputs": [
        {
          "output_type": "stream",
          "name": "stdout",
          "text": [
            "Esperando prompt:desvio de função primária\n",
            "## Desvio de Função Primária: Uma Análise Detalhada\n",
            "\n",
            "\"Desvio de função primária\" geralmente se refere a situações em que um trabalhador é solicitado a realizar tarefas diferentes daquelas para as quais foi contratado, contrariando a descrição de seu cargo. Essa prática pode ter implicações legais e éticas, além de impactar a produtividade e o ambiente de trabalho.\n",
            "\n",
            "**Aspectos Legais:**\n",
            "\n",
            "* **Legislação Trabalhista:** As leis trabalhistas de cada país/região definem os direitos e deveres de empregadores e empregados. Em muitos casos, o desvio de função pode ser considerado ilegal, especialmente se:\n",
            "    * **For permanente:** O trabalhador é obrigado a realizar tarefas diferentes daquelas descritas em seu contrato por tempo indeterminado.\n",
            "    * **Não houver concordância:** O empregado não concordou, por escrito, com a mudança de suas atribuições.\n",
            "    * **Houver prejuízo ao trabalhador:** A mudança de função resulta em perda salarial, de benefícios ou de oportunidades de crescimento profissional.\n",
            "\n",
            "**Implicações Éticas:**\n",
            "\n",
            "* **Exploração:** O desvio de função pode ser usado como forma de explorar o trabalhador, exigindo que ele realize tarefas de maior complexidade ou responsabilidade sem a devida remuneração ou reconhecimento.\n",
            "* **Falta de Transparência:** A falta de clareza nas atribuições e responsabilidades de cada cargo gera um ambiente de trabalho confuso e desorganizado.\n",
            "* **Desmotivação:** Quando um trabalhador se sente desvalorizado ou injustiçado por ter que realizar tarefas que não condizem com sua função, sua motivação e produtividade tendem a cair.\n",
            "\n",
            "**Impacto na Produtividade:**\n",
            "\n",
            "* **Treinamento Inadequado:** O trabalhador desviado de sua função primária pode não ter o treinamento ou as habilidades necessárias para realizar as novas tarefas com eficiência.\n",
            "* **Sobrecarga de Trabalho:** A acumulação de funções pode levar à sobrecarga de trabalho e ao estresse, prejudicando a qualidade do serviço e a saúde do trabalhador.\n",
            "* **Conflitos Internos:** A indefinição de papéis e responsabilidades pode gerar conflitos entre os membros da equipe.\n",
            "\n",
            "**Soluções:**\n",
            "\n",
            "* **Diálogo Aberto:** É fundamental estabelecer um diálogo transparente e honesto entre empregadores e empregados para discutir as necessidades da empresa e as expectativas dos trabalhadores.\n",
            "* **Formalização:** Qualquer mudança na função do trabalhador deve ser formalizada por meio de um aditivo ao contrato de trabalho, garantindo a concordância do empregado e a devida remuneração.\n",
            "* **Plano de Cargos e Salários:** A implementação de um plano de cargos e salários claro e objetivo ajuda a definir as atribuições de cada função e a evitar desvios.\n",
            "* **Treinamento e Desenvolvimento:** Investir em treinamento e desenvolvimento profissional para preparar os trabalhadores para novas funções e responsabilidades.\n",
            "\n",
            "**Conclusão:**\n",
            "\n",
            "O desvio de função primária é uma prática delicada que exige atenção e cuidado por parte dos empregadores. É fundamental agir com ética e respeito à legislação trabalhista para evitar problemas legais e garantir um ambiente de trabalho justo e produtivo.\n",
            "\n",
            "**Observação:** As informações aqui apresentadas são de caráter informativo e não devem ser interpretadas como aconselhamento jurídico. Em caso de dúvidas, consulte um profissional qualificado.\n",
            "Esperando prompt:Fim\n",
            "Entendido! \n",
            "\n",
            "Aguardo novos comandos ou perguntas. \n",
            "\n",
            "Esperando prompt:fim\n",
            "Ok, a conversa está terminada. Avise-me se precisar de mais alguma coisa no futuro. \n",
            "\n"
          ]
        }
      ]
    }
  ]
}